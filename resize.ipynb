{
 "cells": [
  {
   "cell_type": "code",
   "execution_count": 8,
   "metadata": {},
   "outputs": [],
   "source": [
    "# Import libraries for resizing\n",
    "import os\n",
    "import torch\n",
    "import torchvision\n",
    "import torchvision.transforms as T\n",
    "from PIL import Image, ImageFile\n",
    "\n",
    "# Load truncated images\n",
    "ImageFile.LOAD_TRUNCATED_IMAGES = True\n",
    "\n",
    "# Set the maximum number of pixels for an image to 100 billion\n",
    "Image.MAX_IMAGE_PIXELS = 100000000000\n",
    "\n",
    "def resize_images(directory, size):\n",
    "    # Create transformer that:\n",
    "    # 1. Resizes the image to have the largest dimension equal to size\n",
    "    # 2. Converts the image to a JPEG if necessary\n",
    "    transform = T.Compose([\n",
    "        T.Resize(size - 1, max_size=size),\n",
    "        T.ConvertImageDtype(torch.uint8),\n",
    "    ])\n",
    "\n",
    "    # Get the list of images\n",
    "    images = os.listdir(directory)\n",
    "\n",
    "    # Resize the images\n",
    "    for image in images:\n",
    "        try:\n",
    "            img = Image.open(os.path.join(directory, image))\n",
    "            placeholder = T.Resize(size - 1, max_size=size)(img)\n",
    "\n",
    "            # Check that image is JPEG\n",
    "            if placeholder.mode != 'RGB':\n",
    "                placeholder = placeholder.convert('RGB')\n",
    "\n",
    "            placeholder.save(os.path.join(directory, image))\n",
    "        except Exception as e:\n",
    "            print(f'Failed to resize {image} because {e}')\n",
    "\n",
    "# Resize the images\n",
    "resize_images('train/', 224)"
   ]
  }
 ],
 "metadata": {
  "kernelspec": {
   "display_name": "Python 3",
   "language": "python",
   "name": "python3"
  },
  "language_info": {
   "codemirror_mode": {
    "name": "ipython",
    "version": 3
   },
   "file_extension": ".py",
   "mimetype": "text/x-python",
   "name": "python",
   "nbconvert_exporter": "python",
   "pygments_lexer": "ipython3",
   "version": "3.10.0"
  },
  "orig_nbformat": 4,
  "vscode": {
   "interpreter": {
    "hash": "26de051ba29f2982a8de78e945f0abaf191376122a1563185a90213a26c5da77"
   }
  }
 },
 "nbformat": 4,
 "nbformat_minor": 2
}
