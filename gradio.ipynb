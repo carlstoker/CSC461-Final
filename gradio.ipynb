{
 "cells": [
  {
   "cell_type": "code",
   "execution_count": 39,
   "metadata": {},
   "outputs": [],
   "source": [
    "import torch\n",
    "\n",
    "# Load the saved torch model\n",
    "model = torch.load(\"artcnn.pth\")"
   ]
  },
  {
   "cell_type": "code",
   "execution_count": 40,
   "metadata": {},
   "outputs": [
    {
     "data": {
      "text/plain": [
       "['Abstract Expressionism',\n",
       " 'Art Nouveau (Modern)',\n",
       " 'Baroque',\n",
       " 'Cubism',\n",
       " 'Early Renaissance',\n",
       " 'Expressionism',\n",
       " 'High Renaissance',\n",
       " 'Impressionism',\n",
       " 'Mannerism (Late Renaissance)',\n",
       " 'Naïve Art (Primitivism)',\n",
       " 'Neoclassicism',\n",
       " 'Northern Renaissance',\n",
       " 'Post-Impressionism',\n",
       " 'Realism',\n",
       " 'Rococo',\n",
       " 'Romanticism',\n",
       " 'Surrealism',\n",
       " 'Symbolism',\n",
       " 'Ukiyo-e']"
      ]
     },
     "execution_count": 40,
     "metadata": {},
     "output_type": "execute_result"
    }
   ],
   "source": [
    "import pandas as pd\n",
    "\n",
    "# Read classes from the classes.csv file\n",
    "classes = pd.read_csv(\"classes.csv\", encoding=\"utf-8\")\n",
    "\n",
    "# Convert the dataframe to a list\n",
    "classes = classes[\"style\"].tolist()\n",
    "\n",
    "classes"
   ]
  },
  {
   "cell_type": "code",
   "execution_count": 48,
   "metadata": {},
   "outputs": [],
   "source": [
    "# Define a function that takes an image as input and returns the predicted class\n",
    "def predict(img):\n",
    "    # Convert the image to a tensor\n",
    "    img_tensor = torch.from_numpy(img).float()\n",
    "\n",
    "    # Add a batch dimension\n",
    "    img_tensor = img_tensor.unsqueeze(0)\n",
    "\n",
    "    # Get the model's prediction\n",
    "    #prediction = model(img_tensor)\n",
    "\n",
    "    # Get the index corresponding to the highest score\n",
    "    #pred_idx = torch.argmax(prediction, dim=1)\n",
    "\n",
    "    # Convert the index to a class name\n",
    "    #pred_class = classes[pred_idx]\n",
    "\n",
    "    return img_tensor"
   ]
  },
  {
   "cell_type": "code",
   "execution_count": 49,
   "metadata": {},
   "outputs": [
    {
     "name": "stdout",
     "output_type": "stream",
     "text": [
      "Running on local URL:  http://127.0.0.1:7867\n",
      "\n",
      "To create a public link, set `share=True` in `launch()`.\n"
     ]
    },
    {
     "data": {
      "text/html": [
       "<div><iframe src=\"http://127.0.0.1:7867/\" width=\"100%\" height=\"500\" allow=\"autoplay; camera; microphone; clipboard-read; clipboard-write;\" frameborder=\"0\" allowfullscreen></iframe></div>"
      ],
      "text/plain": [
       "<IPython.core.display.HTML object>"
      ]
     },
     "metadata": {},
     "output_type": "display_data"
    },
    {
     "data": {
      "text/plain": []
     },
     "execution_count": 49,
     "metadata": {},
     "output_type": "execute_result"
    }
   ],
   "source": [
    "import gradio as gr\n",
    "\n",
    "# Create a gradio interface\n",
    "demo = gr.Interface(predict, \"image\", \"textbox\")\n",
    "demo.launch(show_error=True)"
   ]
  }
 ],
 "metadata": {
  "kernelspec": {
   "display_name": "Python 3",
   "language": "python",
   "name": "python3"
  },
  "language_info": {
   "codemirror_mode": {
    "name": "ipython",
    "version": 3
   },
   "file_extension": ".py",
   "mimetype": "text/x-python",
   "name": "python",
   "nbconvert_exporter": "python",
   "pygments_lexer": "ipython3",
   "version": "3.10.0"
  },
  "orig_nbformat": 4,
  "vscode": {
   "interpreter": {
    "hash": "26de051ba29f2982a8de78e945f0abaf191376122a1563185a90213a26c5da77"
   }
  }
 },
 "nbformat": 4,
 "nbformat_minor": 2
}
