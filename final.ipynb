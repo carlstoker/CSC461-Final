{
 "cells": [
  {
   "cell_type": "code",
   "execution_count": 25,
   "metadata": {},
   "outputs": [],
   "source": [
    "# Load required libraries\n",
    "import pandas as pd\n",
    "import numpy as np\n",
    "from sklearn.model_selection import train_test_split"
   ]
  },
  {
   "cell_type": "code",
   "execution_count": 27,
   "metadata": {},
   "outputs": [],
   "source": [
    "import os\n",
    "\n",
    "try:\n",
    "    from google.colab import drive\n",
    "\n",
    "    # Mount Google Drive\n",
    "    drive.mount('/content/drive')\n",
    "\n",
    "    # Set working directory\n",
    "    os.chdir('/content/drive/My Drive/CSC 461/Final/')\n",
    "\n",
    "    # Extract images from train.tar. Takes about 11 minutes.\n",
    "    # Has to be done each time you restart the runtime unless you extract and upload\n",
    "    # the files manually (which can take hours)\n",
    "    !tar -xf train.tar --totals --checkpoint=.4000 --checkpoint-action='echo=Hit %s checkpoint #%u/79433'\n",
    "except:\n",
    "    # If it fails, we're probably running locally and don't need to extract the files\n",
    "    pass"
   ]
  },
  {
   "cell_type": "code",
   "execution_count": null,
   "metadata": {},
   "outputs": [],
   "source": [
    "# Load the data\n",
    "df = pd.read_csv('train_info.csv')\n",
    "\n",
    "# Keep only the columns we need: filename and style\n",
    "df = df[['filename', 'style']]\n",
    "\n",
    "# Drop rows with blank styles\n",
    "df = df.dropna()\n",
    "\n",
    "# Drop rows with styles that have less than 500 images\n",
    "df = df[df['style'].map(df['style'].value_counts()) > 500]\n",
    "\n",
    "# Show counts for each style\n",
    "# df['style'].value_counts()"
   ]
  },
  {
   "cell_type": "code",
   "execution_count": null,
   "metadata": {},
   "outputs": [],
   "source": [
    "# Split the data into train and test sets with a 90/10 split and stratify by style\n",
    "train, test = train_test_split(df, test_size=0.1, random_state=42, stratify=df['style'])\n",
    "\n",
    "# Split the train set into train and validation sets with an 89/11 split and stratify by style\n",
    "# This will result in an overall split of 80.1/9.9/10 for train/validation/test\n",
    "train, val = train_test_split(train, test_size=0.11, random_state=42, stratify=train['style'])"
   ]
  }
 ],
 "metadata": {
  "kernelspec": {
   "display_name": "Python 3",
   "language": "python",
   "name": "python3"
  },
  "language_info": {
   "codemirror_mode": {
    "name": "ipython",
    "version": 3
   },
   "file_extension": ".py",
   "mimetype": "text/x-python",
   "name": "python",
   "nbconvert_exporter": "python",
   "pygments_lexer": "ipython3",
   "version": "3.10.0"
  },
  "orig_nbformat": 4,
  "vscode": {
   "interpreter": {
    "hash": "26de051ba29f2982a8de78e945f0abaf191376122a1563185a90213a26c5da77"
   }
  }
 },
 "nbformat": 4,
 "nbformat_minor": 2
}
